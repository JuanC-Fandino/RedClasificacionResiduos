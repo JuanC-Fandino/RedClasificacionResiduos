{
  "nbformat": 4,
  "nbformat_minor": 0,
  "metadata": {
    "colab": {
      "name": "RedClasificacion.ipynb",
      "provenance": [],
      "authorship_tag": "ABX9TyNLXCmixiJw7EF5EPGj1q6S",
      "include_colab_link": true
    },
    "kernelspec": {
      "name": "python3",
      "display_name": "Python 3"
    },
    "language_info": {
      "name": "python"
    },
    "accelerator": "GPU",
    "gpuClass": "standard"
  },
  "cells": [
    {
      "cell_type": "markdown",
      "metadata": {
        "id": "view-in-github",
        "colab_type": "text"
      },
      "source": [
        "<a href=\"https://colab.research.google.com/github/JuanC-Fandino/RedClasificacionResiduos/blob/master/RedClasificacion.ipynb\" target=\"_parent\"><img src=\"https://colab.research.google.com/assets/colab-badge.svg\" alt=\"Open In Colab\"/></a>"
      ]
    },
    {
      "cell_type": "markdown",
      "source": [
        "# Librerías"
      ],
      "metadata": {
        "id": "POhZs_wpwUf8"
      }
    },
    {
      "cell_type": "code",
      "execution_count": 1,
      "metadata": {
        "id": "sFi3a5imubXB"
      },
      "outputs": [],
      "source": [
        "import tensorflow as tf\n",
        "import numpy as np\n",
        "import os\n",
        "from tensorflow import keras\n",
        "from tensorflow.keras import layers\n",
        "from tensorflow.keras.models import Sequential\n"
      ]
    },
    {
      "cell_type": "markdown",
      "source": [
        "# Obtención del Dataset"
      ],
      "metadata": {
        "id": "ph3aD2PJwk1o"
      }
    },
    {
      "cell_type": "code",
      "source": [
        "!git clone https://github.com/JuanC-Fandino/RedClasificacionResiduos.git"
      ],
      "metadata": {
        "colab": {
          "base_uri": "https://localhost:8080/"
        },
        "id": "OUUMCSIgz1dC",
        "outputId": "731ea8f6-4f9e-486d-e952-df33fe75e54a"
      },
      "execution_count": 2,
      "outputs": [
        {
          "output_type": "stream",
          "name": "stdout",
          "text": [
            "fatal: destination path 'RedClasificacionResiduos' already exists and is not an empty directory.\n"
          ]
        }
      ]
    },
    {
      "cell_type": "markdown",
      "source": [
        "# Creación de los sets de entrenamiento y validación"
      ],
      "metadata": {
        "id": "_P-bdutD4S3r"
      }
    },
    {
      "cell_type": "code",
      "source": [
        "DIR = \"/content/RedClasificacionResiduos/dataset\"\n",
        "alto_img = 256\n",
        "ancho_img = 256\n",
        "batch_size = 128\n",
        "train_dataset = tf.keras.preprocessing.image_dataset_from_directory(DIR, validation_split=0.2, subset=\"training\", batch_size=batch_size, smart_resize=True, image_size=(alto_img, ancho_img), seed=25)\n",
        "test_dataset = tf.keras.preprocessing.image_dataset_from_directory(DIR, validation_split=0.2, subset=\"validation\", batch_size=batch_size, smart_resize=True, image_size=(alto_img, ancho_img), seed=25)\n",
        "\n",
        "clases = train_dataset.class_names\n",
        "total_clases = len(train_dataset.class_names)\n",
        "print(clases)\n"
      ],
      "metadata": {
        "colab": {
          "base_uri": "https://localhost:8080/"
        },
        "id": "IIU1zC2C4kVv",
        "outputId": "5245359b-1a45-488c-8e70-e8f29983d4a7"
      },
      "execution_count": 3,
      "outputs": [
        {
          "output_type": "stream",
          "name": "stdout",
          "text": [
            "Found 2527 files belonging to 6 classes.\n",
            "Using 2022 files for training.\n",
            "Found 2527 files belonging to 6 classes.\n",
            "Using 505 files for validation.\n",
            "['Basura', 'Carton', 'Metal', 'Papel', 'Plastico', 'Vidrio']\n"
          ]
        }
      ]
    },
    {
      "cell_type": "markdown",
      "source": [
        "# Optimización del flujo de datos\n",
        "\n",
        "La API tf.data proporciona un mecanismo de canalización de software a través de la transformación tf.data.Dataset.prefetch, que se puede usar para desacoplar el momento en que se producen los datos del momento en que se consumen. En particular, la transformación utiliza un subproceso en segundo plano y un búfer interno para obtener elementos del conjunto de datos de entrada antes de que se soliciten. El número de elementos para precargar debe ser igual (o posiblemente mayor que) el número de lotes consumidos por un solo paso de entrenamiento. Puede ajustar manualmente este valor o establecerlo en tf.data.experimental.AUTOTUNE, lo que hará que el tiempo de ejecución de tf.data ajuste el valor de forma dinámica en el tiempo de ejecución.\n",
        "\n",
        "tf.data crea un modelo de rendimiento de la canalización de entrada y ejecuta un algoritmo de optimización para encontrar una buena asignación de su presupuesto de CPU en todos los parámetros especificados como AUTOTUNE. Mientras se ejecuta la canalización de entrada, tf.data realiza un seguimiento del tiempo empleado en cada operación, de modo que estos tiempos puedan incorporarse al algoritmo de optimización."
      ],
      "metadata": {
        "id": "cnwkPd3173i6"
      }
    },
    {
      "cell_type": "code",
      "source": [
        "AUTOTUNE = tf.data.AUTOTUNE\n",
        "\n",
        "train_dataset = train_dataset.prefetch(buffer_size=AUTOTUNE)\n",
        "test_dataset = test_dataset.prefetch(buffer_size=AUTOTUNE)"
      ],
      "metadata": {
        "id": "QiGW8ZnV7PsH"
      },
      "execution_count": 4,
      "outputs": []
    },
    {
      "cell_type": "markdown",
      "source": [
        "# Entrenamiento del modelo"
      ],
      "metadata": {
        "id": "CAtBZ9CC8N1M"
      }
    },
    {
      "cell_type": "code",
      "source": [
        "data_augmentation = keras.Sequential(\n",
        "  [\n",
        "    layers.RandomFlip(\"horizontal\",\n",
        "                      input_shape=(alto_img,\n",
        "                                  ancho_img,\n",
        "                                  3)),\n",
        "    layers.RandomRotation(0.1),\n",
        "    layers.RandomZoom(0.1),\n",
        "  ]\n",
        ")\n",
        "\n",
        "\n",
        "\n",
        "model = Sequential([\n",
        "  data_augmentation,\n",
        "  layers.Rescaling(1./255),\n",
        "  layers.Conv2D(16, 3, padding='same', activation='relu'),\n",
        "  layers.MaxPooling2D(),\n",
        "  layers.Conv2D(32, 3, padding='same', activation='relu'),\n",
        "  layers.MaxPooling2D(),\n",
        "  layers.Conv2D(64, 3, padding='same', activation='relu'),\n",
        "  layers.MaxPooling2D(),\n",
        "  layers.Dropout(0.2),\n",
        "  layers.Flatten(),\n",
        "  layers.Dense(128, activation='relu'),\n",
        "  layers.Dense(total_clases)\n",
        "])\n",
        "\n",
        "\n",
        "model.compile(optimizer='adam',\n",
        "              loss=tf.keras.losses.SparseCategoricalCrossentropy(from_logits=True),\n",
        "              metrics=['accuracy'])\n",
        "\n",
        "model.summary()\n",
        "\n",
        "epochs=10\n",
        "history = model.fit(\n",
        "  train_dataset,\n",
        "  validation_data=test_dataset,\n",
        "  epochs=epochs\n",
        ")\n",
        "\n",
        "acc = history.history['accuracy']\n",
        "val_acc = history.history['val_accuracy']\n",
        "\n",
        "loss = history.history['loss']\n",
        "val_loss = history.history['val_loss']\n"
      ],
      "metadata": {
        "colab": {
          "base_uri": "https://localhost:8080/",
          "height": 1000
        },
        "id": "-9PAWS-U8OFj",
        "outputId": "1cdee31f-50c8-4322-b196-e8968b03197a"
      },
      "execution_count": 5,
      "outputs": [
        {
          "output_type": "stream",
          "name": "stdout",
          "text": [
            "Model: \"sequential_1\"\n",
            "_________________________________________________________________\n",
            " Layer (type)                Output Shape              Param #   \n",
            "=================================================================\n",
            " sequential (Sequential)     (None, 256, 256, 3)       0         \n",
            "                                                                 \n",
            " rescaling (Rescaling)       (None, 256, 256, 3)       0         \n",
            "                                                                 \n",
            " conv2d (Conv2D)             (None, 256, 256, 16)      448       \n",
            "                                                                 \n",
            " max_pooling2d (MaxPooling2D  (None, 128, 128, 16)     0         \n",
            " )                                                               \n",
            "                                                                 \n",
            " conv2d_1 (Conv2D)           (None, 128, 128, 32)      4640      \n",
            "                                                                 \n",
            " max_pooling2d_1 (MaxPooling  (None, 64, 64, 32)       0         \n",
            " 2D)                                                             \n",
            "                                                                 \n",
            " conv2d_2 (Conv2D)           (None, 64, 64, 64)        18496     \n",
            "                                                                 \n",
            " max_pooling2d_2 (MaxPooling  (None, 32, 32, 64)       0         \n",
            " 2D)                                                             \n",
            "                                                                 \n",
            " dropout (Dropout)           (None, 32, 32, 64)        0         \n",
            "                                                                 \n",
            " flatten (Flatten)           (None, 65536)             0         \n",
            "                                                                 \n",
            " dense (Dense)               (None, 128)               8388736   \n",
            "                                                                 \n",
            " dense_1 (Dense)             (None, 6)                 774       \n",
            "                                                                 \n",
            "=================================================================\n",
            "Total params: 8,413,094\n",
            "Trainable params: 8,413,094\n",
            "Non-trainable params: 0\n",
            "_________________________________________________________________\n",
            "Epoch 1/10\n",
            "16/16 [==============================] - 23s 435ms/step - loss: 2.5583 - accuracy: 0.2334 - val_loss: 1.6970 - val_accuracy: 0.2317\n",
            "Epoch 2/10\n",
            "16/16 [==============================] - 6s 287ms/step - loss: 1.5868 - accuracy: 0.2957 - val_loss: 1.4667 - val_accuracy: 0.3208\n",
            "Epoch 3/10\n",
            "16/16 [==============================] - 6s 288ms/step - loss: 1.4445 - accuracy: 0.3877 - val_loss: 1.3226 - val_accuracy: 0.4713\n",
            "Epoch 4/10\n",
            "16/16 [==============================] - 6s 289ms/step - loss: 1.3374 - accuracy: 0.4500 - val_loss: 1.3416 - val_accuracy: 0.4950\n",
            "Epoch 5/10\n",
            "16/16 [==============================] - 6s 290ms/step - loss: 1.3167 - accuracy: 0.4703 - val_loss: 1.2478 - val_accuracy: 0.5010\n",
            "Epoch 6/10\n",
            "16/16 [==============================] - 7s 300ms/step - loss: 1.2619 - accuracy: 0.4946 - val_loss: 1.2058 - val_accuracy: 0.5327\n",
            "Epoch 7/10\n",
            "16/16 [==============================] - 6s 291ms/step - loss: 1.1775 - accuracy: 0.5356 - val_loss: 1.1092 - val_accuracy: 0.5782\n",
            "Epoch 8/10\n",
            "16/16 [==============================] - 6s 293ms/step - loss: 1.1166 - accuracy: 0.5603 - val_loss: 1.0848 - val_accuracy: 0.5901\n",
            "Epoch 9/10\n",
            "16/16 [==============================] - 6s 294ms/step - loss: 1.0810 - accuracy: 0.5861 - val_loss: 1.1049 - val_accuracy: 0.5941\n",
            "Epoch 10/10\n",
            "16/16 [==============================] - 6s 291ms/step - loss: 1.0538 - accuracy: 0.5984 - val_loss: 1.0331 - val_accuracy: 0.6198\n"
          ]
        },
        {
          "output_type": "error",
          "ename": "NameError",
          "evalue": "ignored",
          "traceback": [
            "\u001b[0;31m---------------------------------------------------------------------------\u001b[0m",
            "\u001b[0;31mNameError\u001b[0m                                 Traceback (most recent call last)",
            "\u001b[0;32m<ipython-input-5-43074f603ebc>\u001b[0m in \u001b[0;36m<module>\u001b[0;34m\u001b[0m\n\u001b[1;32m     49\u001b[0m \u001b[0mepochs_range\u001b[0m \u001b[0;34m=\u001b[0m \u001b[0mrange\u001b[0m\u001b[0;34m(\u001b[0m\u001b[0mepochs\u001b[0m\u001b[0;34m)\u001b[0m\u001b[0;34m\u001b[0m\u001b[0;34m\u001b[0m\u001b[0m\n\u001b[1;32m     50\u001b[0m \u001b[0;34m\u001b[0m\u001b[0m\n\u001b[0;32m---> 51\u001b[0;31m \u001b[0mplt\u001b[0m\u001b[0;34m.\u001b[0m\u001b[0mfigure\u001b[0m\u001b[0;34m(\u001b[0m\u001b[0mfigsize\u001b[0m\u001b[0;34m=\u001b[0m\u001b[0;34m(\u001b[0m\u001b[0;36m8\u001b[0m\u001b[0;34m,\u001b[0m \u001b[0;36m8\u001b[0m\u001b[0;34m)\u001b[0m\u001b[0;34m)\u001b[0m\u001b[0;34m\u001b[0m\u001b[0;34m\u001b[0m\u001b[0m\n\u001b[0m\u001b[1;32m     52\u001b[0m \u001b[0mplt\u001b[0m\u001b[0;34m.\u001b[0m\u001b[0msubplot\u001b[0m\u001b[0;34m(\u001b[0m\u001b[0;36m1\u001b[0m\u001b[0;34m,\u001b[0m \u001b[0;36m2\u001b[0m\u001b[0;34m,\u001b[0m \u001b[0;36m1\u001b[0m\u001b[0;34m)\u001b[0m\u001b[0;34m\u001b[0m\u001b[0;34m\u001b[0m\u001b[0m\n\u001b[1;32m     53\u001b[0m \u001b[0mplt\u001b[0m\u001b[0;34m.\u001b[0m\u001b[0mplot\u001b[0m\u001b[0;34m(\u001b[0m\u001b[0mepochs_range\u001b[0m\u001b[0;34m,\u001b[0m \u001b[0macc\u001b[0m\u001b[0;34m,\u001b[0m \u001b[0mlabel\u001b[0m\u001b[0;34m=\u001b[0m\u001b[0;34m'Training Accuracy'\u001b[0m\u001b[0;34m)\u001b[0m\u001b[0;34m\u001b[0m\u001b[0;34m\u001b[0m\u001b[0m\n",
            "\u001b[0;31mNameError\u001b[0m: name 'plt' is not defined"
          ]
        }
      ]
    },
    {
      "cell_type": "code",
      "source": [
        "epochs_range = range(epochs)\n",
        "\n",
        "import matplotlib.pyplot as plt\n",
        "\n",
        "plt.figure(figsize=(8, 8))\n",
        "plt.subplot(1, 2, 1)\n",
        "plt.plot(epochs_range, acc, label='Training Accuracy')\n",
        "plt.plot(epochs_range, val_acc, label='Validation Accuracy')\n",
        "plt.legend(loc='lower right')\n",
        "plt.title('Training and Validation Accuracy')\n",
        "\n",
        "plt.subplot(1, 2, 2)\n",
        "plt.plot(epochs_range, loss, label='Training Loss')\n",
        "plt.plot(epochs_range, val_loss, label='Validation Loss')\n",
        "plt.legend(loc='upper right')\n",
        "plt.title('Training and Validation Loss')\n",
        "plt.show()\n"
      ],
      "metadata": {
        "colab": {
          "base_uri": "https://localhost:8080/",
          "height": 499
        },
        "id": "74QdC_h3GMVA",
        "outputId": "1a21d58f-5166-4042-e396-cbd0426d98be"
      },
      "execution_count": 6,
      "outputs": [
        {
          "output_type": "display_data",
          "data": {
            "text/plain": [
              "<Figure size 576x576 with 2 Axes>"
            ],
            "image/png": "[encoded data removed]"
          },
          "metadata": {
            "needs_background": "light"
          }
        }
      ]
    }
  ]
}