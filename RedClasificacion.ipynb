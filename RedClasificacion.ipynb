{
  "nbformat": 4,
  "nbformat_minor": 0,
  "metadata": {
    "colab": {
      "provenance": [],
      "name": "RedClasificacion.ipynb",
      "collapsed_sections": [],
      "authorship_tag": "ABX9TyOTlfovz8zcqJnKB7NKGKJx",
      "include_colab_link": true
    },
    "kernelspec": {
      "name": "python3",
      "display_name": "Python 3"
    },
    "language_info": {
      "name": "python"
    },
    "gpuClass": "standard",
    "accelerator": "GPU"
  },
  "cells": [
    {
      "cell_type": "markdown",
      "metadata": {
        "id": "view-in-github",
        "colab_type": "text"
      },
      "source": [
        "<a href=\"https://colab.research.google.com/github/JuanC-Fandino/RedClasificacionResiduos/blob/master/RedClasificacion.ipynb\" target=\"_parent\"><img src=\"https://colab.research.google.com/assets/colab-badge.svg\" alt=\"Open In Colab\"/></a>"
      ]
    },
    {
      "cell_type": "markdown",
      "source": [
        "# Librerías"
      ],
      "metadata": {
        "id": "POhZs_wpwUf8"
      }
    },
    {
      "cell_type": "code",
      "execution_count": 1,
      "metadata": {
        "id": "sFi3a5imubXB"
      },
      "outputs": [],
      "source": [
        "import tensorflow as tf\n",
        "import numpy as np\n",
        "import os\n",
        "from tensorflow import keras\n",
        "from tensorflow.keras import layers\n",
        "from tensorflow.keras.models import Sequential\n",
        "import matplotlib.pyplot as plt\n",
        "import itertools"
      ]
    },
    {
      "cell_type": "markdown",
      "source": [
        "# Obtención del Dataset"
      ],
      "metadata": {
        "id": "ph3aD2PJwk1o"
      }
    },
    {
      "cell_type": "code",
      "source": [
        "!git clone https://github.com/JuanC-Fandino/RedClasificacionResiduos.git"
      ],
      "metadata": {
        "id": "OUUMCSIgz1dC",
        "colab": {
          "base_uri": "https://localhost:8080/"
        },
        "outputId": "513aa5e9-d2bb-42d7-b148-2744fc3ae2ef"
      },
      "execution_count": 2,
      "outputs": [
        {
          "output_type": "stream",
          "name": "stdout",
          "text": [
            "Cloning into 'RedClasificacionResiduos'...\n",
            "remote: Enumerating objects: 2543, done.\u001b[K\n",
            "remote: Counting objects: 100% (2543/2543), done.\u001b[K\n",
            "remote: Compressing objects: 100% (2540/2540), done.\u001b[K\n",
            "remote: Total 2543 (delta 5), reused 2535 (delta 1), pack-reused 0\u001b[K\n",
            "Receiving objects: 100% (2543/2543), 40.46 MiB | 17.82 MiB/s, done.\n",
            "Resolving deltas: 100% (5/5), done.\n"
          ]
        }
      ]
    },
    {
      "cell_type": "markdown",
      "source": [
        "# Creación de los sets de entrenamiento y validación"
      ],
      "metadata": {
        "id": "_P-bdutD4S3r"
      }
    },
    {
      "cell_type": "code",
      "source": [
        "DIR = \"/content/RedClasificacionResiduos/dataset\"\n",
        "alto_img = 256\n",
        "ancho_img = 256\n",
        "batch_size = 128\n",
        "train_dataset = tf.keras.preprocessing.image_dataset_from_directory(DIR, validation_split=0.2, subset=\"training\", batch_size=batch_size, smart_resize=True, image_size=(alto_img, ancho_img), seed=25)\n",
        "test_dataset = tf.keras.preprocessing.image_dataset_from_directory(DIR, validation_split=0.2, subset=\"validation\", batch_size=batch_size, smart_resize=True, image_size=(alto_img, ancho_img), seed=25)\n",
        "\n",
        "clases = train_dataset.class_names\n",
        "total_clases = len(train_dataset.class_names)\n",
        "print(clases)"
      ],
      "metadata": {
        "colab": {
          "base_uri": "https://localhost:8080/"
        },
        "id": "IIU1zC2C4kVv",
        "outputId": "70cfee9c-1944-4b43-f2e0-13a802d81134"
      },
      "execution_count": 3,
      "outputs": [
        {
          "output_type": "stream",
          "name": "stdout",
          "text": [
            "Found 2527 files belonging to 6 classes.\n",
            "Using 2022 files for training.\n",
            "Found 2527 files belonging to 6 classes.\n",
            "Using 505 files for validation.\n",
            "['Basura', 'Carton', 'Metal', 'Papel', 'Plastico', 'Vidrio']\n"
          ]
        }
      ]
    },
    {
      "cell_type": "markdown",
      "source": [
        "# Optimización del flujo de datos\n"
      ],
      "metadata": {
        "id": "cnwkPd3173i6"
      }
    },
    {
      "cell_type": "code",
      "source": [
        "AUTOTUNE = tf.data.AUTOTUNE\n",
        "\n",
        "train_dataset = train_dataset.prefetch(buffer_size=AUTOTUNE)\n",
        "test_dataset = test_dataset.prefetch(buffer_size=AUTOTUNE)"
      ],
      "metadata": {
        "id": "QiGW8ZnV7PsH"
      },
      "execution_count": 4,
      "outputs": []
    },
    {
      "cell_type": "markdown",
      "source": [
        "# Entrenamiento del modelo"
      ],
      "metadata": {
        "id": "CAtBZ9CC8N1M"
      }
    },
    {
      "cell_type": "code",
      "source": [
        "data_augmentation = keras.Sequential(\n",
        "  [\n",
        "    layers.RandomFlip(\"horizontal\",\n",
        "                      input_shape=(alto_img,\n",
        "                                  ancho_img,\n",
        "                                  3)),\n",
        "    layers.RandomRotation(0.1),\n",
        "    layers.RandomZoom(0.1),\n",
        "  ]\n",
        ")\n",
        "\n",
        "model = Sequential([\n",
        "  layers.Rescaling(1./255, input_shape=(alto_img, ancho_img, 3)),\n",
        "  layers.Conv2D(16, 3, padding='same', activation='relu'),\n",
        "  layers.MaxPooling2D(),\n",
        "  layers.Conv2D(32, 3, padding='same', activation='relu'),\n",
        "  layers.MaxPooling2D(),\n",
        "  layers.Conv2D(64, 3, padding='same', activation='relu'),\n",
        "  layers.MaxPooling2D(),\n",
        "  layers.Conv2D(128, 3, padding='same', activation='relu'),\n",
        "  layers.MaxPooling2D(),\n",
        "  layers.Dropout(0.5),\n",
        "  layers.Flatten(),\n",
        "  layers.Dense(256, activation='relu'),\n",
        "  layers.Dense(total_clases)\n",
        "])\n",
        "\n",
        "model.compile(optimizer='adam',\n",
        "              loss=tf.keras.losses.SparseCategoricalCrossentropy(from_logits=True),\n",
        "              metrics=['accuracy'])\n",
        "\n",
        "epochs=50\n",
        "history = model.fit(\n",
        "  train_dataset,\n",
        "  validation_data=test_dataset,\n",
        "  epochs=epochs\n",
        ")\n",
        "\n",
        "acc = history.history['accuracy']\n",
        "val_acc = history.history['val_accuracy']\n",
        "\n",
        "loss = history.history['loss']\n",
        "val_loss = history.history['val_loss']"
      ],
      "metadata": {
        "colab": {
          "base_uri": "https://localhost:8080/"
        },
        "id": "-9PAWS-U8OFj",
        "outputId": "2c9ffb40-3f29-4f16-8278-70cc60d94706"
      },
      "execution_count": 5,
      "outputs": [
        {
          "output_type": "stream",
          "name": "stdout",
          "text": [
            "Epoch 1/50\n",
            "16/16 [==============================] - 24s 453ms/step - loss: 1.6913 - accuracy: 0.2671 - val_loss: 1.7260 - val_accuracy: 0.3861\n",
            "Epoch 2/50\n",
            "16/16 [==============================] - 6s 288ms/step - loss: 1.4128 - accuracy: 0.4431 - val_loss: 1.3011 - val_accuracy: 0.4931\n",
            "Epoch 3/50\n",
            "16/16 [==============================] - 6s 292ms/step - loss: 1.2435 - accuracy: 0.5089 - val_loss: 1.1893 - val_accuracy: 0.5683\n",
            "Epoch 4/50\n",
            "16/16 [==============================] - 6s 292ms/step - loss: 1.1051 - accuracy: 0.5762 - val_loss: 1.1066 - val_accuracy: 0.6000\n",
            "Epoch 5/50\n",
            "16/16 [==============================] - 6s 294ms/step - loss: 1.0123 - accuracy: 0.6187 - val_loss: 1.0424 - val_accuracy: 0.6515\n",
            "Epoch 6/50\n",
            "16/16 [==============================] - 6s 290ms/step - loss: 0.8812 - accuracy: 0.6667 - val_loss: 1.0605 - val_accuracy: 0.6119\n",
            "Epoch 7/50\n",
            "16/16 [==============================] - 6s 293ms/step - loss: 0.7898 - accuracy: 0.7097 - val_loss: 1.0129 - val_accuracy: 0.6634\n",
            "Epoch 8/50\n",
            "16/16 [==============================] - 7s 297ms/step - loss: 0.6982 - accuracy: 0.7334 - val_loss: 1.0999 - val_accuracy: 0.6198\n",
            "Epoch 9/50\n",
            "16/16 [==============================] - 7s 294ms/step - loss: 0.6113 - accuracy: 0.7824 - val_loss: 1.0381 - val_accuracy: 0.6396\n",
            "Epoch 10/50\n",
            "16/16 [==============================] - 6s 292ms/step - loss: 0.4775 - accuracy: 0.8398 - val_loss: 1.2031 - val_accuracy: 0.6257\n",
            "Epoch 11/50\n",
            "16/16 [==============================] - 6s 294ms/step - loss: 0.4900 - accuracy: 0.8289 - val_loss: 1.1741 - val_accuracy: 0.6238\n",
            "Epoch 12/50\n",
            "16/16 [==============================] - 6s 290ms/step - loss: 0.4202 - accuracy: 0.8516 - val_loss: 1.2246 - val_accuracy: 0.6455\n",
            "Epoch 13/50\n",
            "16/16 [==============================] - 6s 291ms/step - loss: 0.3643 - accuracy: 0.8660 - val_loss: 1.2563 - val_accuracy: 0.6475\n",
            "Epoch 14/50\n",
            "16/16 [==============================] - 6s 295ms/step - loss: 0.3022 - accuracy: 0.9031 - val_loss: 1.2657 - val_accuracy: 0.6594\n",
            "Epoch 15/50\n",
            "16/16 [==============================] - 7s 294ms/step - loss: 0.2249 - accuracy: 0.9243 - val_loss: 1.3624 - val_accuracy: 0.6653\n",
            "Epoch 16/50\n",
            "16/16 [==============================] - 6s 295ms/step - loss: 0.1715 - accuracy: 0.9456 - val_loss: 1.5757 - val_accuracy: 0.6614\n",
            "Epoch 17/50\n",
            "16/16 [==============================] - 6s 296ms/step - loss: 0.1525 - accuracy: 0.9500 - val_loss: 1.6696 - val_accuracy: 0.6495\n",
            "Epoch 18/50\n",
            "16/16 [==============================] - 6s 295ms/step - loss: 0.1218 - accuracy: 0.9649 - val_loss: 1.8208 - val_accuracy: 0.6178\n",
            "Epoch 19/50\n",
            "16/16 [==============================] - 7s 297ms/step - loss: 0.1369 - accuracy: 0.9500 - val_loss: 1.7115 - val_accuracy: 0.6851\n",
            "Epoch 20/50\n",
            "16/16 [==============================] - 7s 295ms/step - loss: 0.0860 - accuracy: 0.9728 - val_loss: 1.8160 - val_accuracy: 0.6752\n",
            "Epoch 21/50\n",
            "16/16 [==============================] - 7s 299ms/step - loss: 0.0695 - accuracy: 0.9787 - val_loss: 1.9098 - val_accuracy: 0.6634\n",
            "Epoch 22/50\n",
            "16/16 [==============================] - 6s 294ms/step - loss: 0.1082 - accuracy: 0.9674 - val_loss: 1.9246 - val_accuracy: 0.6139\n",
            "Epoch 23/50\n",
            "16/16 [==============================] - 7s 295ms/step - loss: 0.0845 - accuracy: 0.9768 - val_loss: 1.9221 - val_accuracy: 0.6455\n",
            "Epoch 24/50\n",
            "16/16 [==============================] - 6s 293ms/step - loss: 0.0590 - accuracy: 0.9832 - val_loss: 2.0997 - val_accuracy: 0.6554\n",
            "Epoch 25/50\n",
            "16/16 [==============================] - 7s 297ms/step - loss: 0.0637 - accuracy: 0.9812 - val_loss: 1.9851 - val_accuracy: 0.6535\n",
            "Epoch 26/50\n",
            "16/16 [==============================] - 7s 298ms/step - loss: 0.0614 - accuracy: 0.9817 - val_loss: 1.9291 - val_accuracy: 0.6653\n",
            "Epoch 27/50\n",
            "16/16 [==============================] - 7s 300ms/step - loss: 0.1249 - accuracy: 0.9599 - val_loss: 1.9992 - val_accuracy: 0.6772\n",
            "Epoch 28/50\n",
            "16/16 [==============================] - 7s 296ms/step - loss: 0.1115 - accuracy: 0.9619 - val_loss: 1.6835 - val_accuracy: 0.6475\n",
            "Epoch 29/50\n",
            "16/16 [==============================] - 6s 292ms/step - loss: 0.0797 - accuracy: 0.9748 - val_loss: 1.9298 - val_accuracy: 0.6455\n",
            "Epoch 30/50\n",
            "16/16 [==============================] - 7s 297ms/step - loss: 0.0562 - accuracy: 0.9847 - val_loss: 2.0307 - val_accuracy: 0.6356\n",
            "Epoch 31/50\n",
            "16/16 [==============================] - 6s 295ms/step - loss: 0.0323 - accuracy: 0.9891 - val_loss: 2.2481 - val_accuracy: 0.6396\n",
            "Epoch 32/50\n",
            "16/16 [==============================] - 7s 295ms/step - loss: 0.0267 - accuracy: 0.9941 - val_loss: 2.4833 - val_accuracy: 0.6376\n",
            "Epoch 33/50\n",
            "16/16 [==============================] - 7s 300ms/step - loss: 0.0306 - accuracy: 0.9911 - val_loss: 2.2421 - val_accuracy: 0.6653\n",
            "Epoch 34/50\n",
            "16/16 [==============================] - 7s 300ms/step - loss: 0.0320 - accuracy: 0.9936 - val_loss: 2.0384 - val_accuracy: 0.6911\n",
            "Epoch 35/50\n",
            "16/16 [==============================] - 7s 298ms/step - loss: 0.0224 - accuracy: 0.9941 - val_loss: 2.1937 - val_accuracy: 0.6832\n",
            "Epoch 36/50\n",
            "16/16 [==============================] - 7s 295ms/step - loss: 0.0214 - accuracy: 0.9941 - val_loss: 1.9975 - val_accuracy: 0.6832\n",
            "Epoch 37/50\n",
            "16/16 [==============================] - 6s 295ms/step - loss: 0.0208 - accuracy: 0.9936 - val_loss: 2.2053 - val_accuracy: 0.6693\n",
            "Epoch 38/50\n",
            "16/16 [==============================] - 6s 296ms/step - loss: 0.0217 - accuracy: 0.9946 - val_loss: 2.3548 - val_accuracy: 0.6990\n",
            "Epoch 39/50\n",
            "16/16 [==============================] - 7s 297ms/step - loss: 0.0267 - accuracy: 0.9926 - val_loss: 2.4440 - val_accuracy: 0.6812\n",
            "Epoch 40/50\n",
            "16/16 [==============================] - 7s 298ms/step - loss: 0.0347 - accuracy: 0.9871 - val_loss: 2.1027 - val_accuracy: 0.6614\n",
            "Epoch 41/50\n",
            "16/16 [==============================] - 7s 300ms/step - loss: 0.0454 - accuracy: 0.9847 - val_loss: 2.4452 - val_accuracy: 0.6257\n",
            "Epoch 42/50\n",
            "16/16 [==============================] - 7s 299ms/step - loss: 0.0848 - accuracy: 0.9708 - val_loss: 2.2709 - val_accuracy: 0.6317\n",
            "Epoch 43/50\n",
            "16/16 [==============================] - 7s 299ms/step - loss: 0.0553 - accuracy: 0.9842 - val_loss: 1.9844 - val_accuracy: 0.6337\n",
            "Epoch 44/50\n",
            "16/16 [==============================] - 7s 298ms/step - loss: 0.0714 - accuracy: 0.9802 - val_loss: 2.0366 - val_accuracy: 0.6535\n",
            "Epoch 45/50\n",
            "16/16 [==============================] - 6s 295ms/step - loss: 0.0577 - accuracy: 0.9787 - val_loss: 2.3453 - val_accuracy: 0.6594\n",
            "Epoch 46/50\n",
            "16/16 [==============================] - 7s 299ms/step - loss: 0.0545 - accuracy: 0.9842 - val_loss: 2.5109 - val_accuracy: 0.6198\n",
            "Epoch 47/50\n",
            "16/16 [==============================] - 7s 297ms/step - loss: 0.0437 - accuracy: 0.9891 - val_loss: 2.0021 - val_accuracy: 0.6752\n",
            "Epoch 48/50\n",
            "16/16 [==============================] - 7s 297ms/step - loss: 0.0198 - accuracy: 0.9955 - val_loss: 2.3162 - val_accuracy: 0.6693\n",
            "Epoch 49/50\n",
            "16/16 [==============================] - 7s 297ms/step - loss: 0.0334 - accuracy: 0.9906 - val_loss: 2.2252 - val_accuracy: 0.6535\n",
            "Epoch 50/50\n",
            "16/16 [==============================] - 7s 296ms/step - loss: 0.0131 - accuracy: 0.9970 - val_loss: 2.1534 - val_accuracy: 0.6871\n"
          ]
        }
      ]
    },
    {
      "cell_type": "code",
      "source": [
        " model.save(\"residuos_model.h5\")\n",
        "\n",
        "!pip install tensorflowjs\n",
        "!tensorflowjs_converter --input_format keras \"residuos_model.h5\" ./jsmodel --output_format=tfjs_graph_model "
      ],
      "metadata": {
        "id": "M6o2eP2XGxDO",
        "colab": {
          "base_uri": "https://localhost:8080/",
          "height": 1000
        },
        "outputId": "ad4a76ff-7022-4ac8-c817-3db4ef5b1d2c"
      },
      "execution_count": 6,
      "outputs": [
        {
          "output_type": "stream",
          "name": "stdout",
          "text": [
            "Looking in indexes: https://pypi.org/simple, https://us-python.pkg.dev/colab-wheels/public/simple/\n",
            "Collecting tensorflowjs\n",
            "  Downloading tensorflowjs-3.20.0-py3-none-any.whl (81 kB)\n",
            "\u001b[K     |████████████████████████████████| 81 kB 8.0 MB/s \n",
            "\u001b[?25hCollecting packaging~=20.9\n",
            "  Downloading packaging-20.9-py2.py3-none-any.whl (40 kB)\n",
            "\u001b[K     |████████████████████████████████| 40 kB 7.1 MB/s \n",
            "\u001b[?25hRequirement already satisfied: protobuf<3.20,>=3.9.2 in /usr/local/lib/python3.7/dist-packages (from tensorflowjs) (3.17.3)\n",
            "Requirement already satisfied: importlib_resources>=5.9.0 in /usr/local/lib/python3.7/dist-packages (from tensorflowjs) (5.9.0)\n",
            "Requirement already satisfied: tensorflow<3,>=2.1.0 in /usr/local/lib/python3.7/dist-packages (from tensorflowjs) (2.8.2+zzzcolab20220719082949)\n",
            "Collecting flax>=0.5.3\n",
            "  Downloading flax-0.6.0-py3-none-any.whl (180 kB)\n",
            "\u001b[K     |████████████████████████████████| 180 kB 64.5 MB/s \n",
            "\u001b[?25hCollecting jax>=0.3.16\n",
            "  Downloading jax-0.3.17.tar.gz (1.1 MB)\n",
            "\u001b[K     |████████████████████████████████| 1.1 MB 53.9 MB/s \n",
            "\u001b[?25hRequirement already satisfied: six<2,>=1.12.0 in /usr/local/lib/python3.7/dist-packages (from tensorflowjs) (1.15.0)\n",
            "Requirement already satisfied: tensorflow-hub<0.13,>=0.7.0 in /usr/local/lib/python3.7/dist-packages (from tensorflowjs) (0.12.0)\n",
            "Requirement already satisfied: msgpack in /usr/local/lib/python3.7/dist-packages (from flax>=0.5.3->tensorflowjs) (1.0.4)\n",
            "Requirement already satisfied: matplotlib in /usr/local/lib/python3.7/dist-packages (from flax>=0.5.3->tensorflowjs) (3.2.2)\n",
            "Requirement already satisfied: typing-extensions>=4.1.1 in /usr/local/lib/python3.7/dist-packages (from flax>=0.5.3->tensorflowjs) (4.1.1)\n",
            "Requirement already satisfied: PyYAML>=5.4.1 in /usr/local/lib/python3.7/dist-packages (from flax>=0.5.3->tensorflowjs) (6.0)\n",
            "Collecting optax\n",
            "  Downloading optax-0.1.3-py3-none-any.whl (145 kB)\n",
            "\u001b[K     |████████████████████████████████| 145 kB 61.6 MB/s \n",
            "\u001b[?25hRequirement already satisfied: numpy>=1.12 in /usr/local/lib/python3.7/dist-packages (from flax>=0.5.3->tensorflowjs) (1.21.6)\n",
            "Collecting rich~=11.1\n",
            "  Downloading rich-11.2.0-py3-none-any.whl (217 kB)\n",
            "\u001b[K     |████████████████████████████████| 217 kB 73.7 MB/s \n",
            "\u001b[?25hRequirement already satisfied: zipp>=3.1.0 in /usr/local/lib/python3.7/dist-packages (from importlib_resources>=5.9.0->tensorflowjs) (3.8.1)\n",
            "Requirement already satisfied: absl-py in /usr/local/lib/python3.7/dist-packages (from jax>=0.3.16->tensorflowjs) (1.2.0)\n",
            "Requirement already satisfied: opt_einsum in /usr/local/lib/python3.7/dist-packages (from jax>=0.3.16->tensorflowjs) (3.3.0)\n",
            "Requirement already satisfied: scipy>=1.5 in /usr/local/lib/python3.7/dist-packages (from jax>=0.3.16->tensorflowjs) (1.7.3)\n",
            "Requirement already satisfied: etils[epath] in /usr/local/lib/python3.7/dist-packages (from jax>=0.3.16->tensorflowjs) (0.7.1)\n",
            "Requirement already satisfied: pyparsing>=2.0.2 in /usr/local/lib/python3.7/dist-packages (from packaging~=20.9->tensorflowjs) (3.0.9)\n",
            "Requirement already satisfied: pygments<3.0.0,>=2.6.0 in /usr/local/lib/python3.7/dist-packages (from rich~=11.1->flax>=0.5.3->tensorflowjs) (2.6.1)\n",
            "Collecting colorama<0.5.0,>=0.4.0\n",
            "  Downloading colorama-0.4.5-py2.py3-none-any.whl (16 kB)\n",
            "Collecting commonmark<0.10.0,>=0.9.0\n",
            "  Downloading commonmark-0.9.1-py2.py3-none-any.whl (51 kB)\n",
            "\u001b[K     |████████████████████████████████| 51 kB 6.7 MB/s \n",
            "\u001b[?25hRequirement already satisfied: libclang>=9.0.1 in /usr/local/lib/python3.7/dist-packages (from tensorflow<3,>=2.1.0->tensorflowjs) (14.0.6)\n",
            "Requirement already satisfied: gast>=0.2.1 in /usr/local/lib/python3.7/dist-packages (from tensorflow<3,>=2.1.0->tensorflowjs) (0.5.3)\n",
            "Requirement already satisfied: keras<2.9,>=2.8.0rc0 in /usr/local/lib/python3.7/dist-packages (from tensorflow<3,>=2.1.0->tensorflowjs) (2.8.0)\n",
            "Requirement already satisfied: h5py>=2.9.0 in /usr/local/lib/python3.7/dist-packages (from tensorflow<3,>=2.1.0->tensorflowjs) (3.1.0)\n",
            "Requirement already satisfied: tensorflow-estimator<2.9,>=2.8 in /usr/local/lib/python3.7/dist-packages (from tensorflow<3,>=2.1.0->tensorflowjs) (2.8.0)\n",
            "Requirement already satisfied: keras-preprocessing>=1.1.1 in /usr/local/lib/python3.7/dist-packages (from tensorflow<3,>=2.1.0->tensorflowjs) (1.1.2)\n",
            "Requirement already satisfied: flatbuffers>=1.12 in /usr/local/lib/python3.7/dist-packages (from tensorflow<3,>=2.1.0->tensorflowjs) (2.0.7)\n",
            "Requirement already satisfied: termcolor>=1.1.0 in /usr/local/lib/python3.7/dist-packages (from tensorflow<3,>=2.1.0->tensorflowjs) (1.1.0)\n",
            "Requirement already satisfied: grpcio<2.0,>=1.24.3 in /usr/local/lib/python3.7/dist-packages (from tensorflow<3,>=2.1.0->tensorflowjs) (1.47.0)\n",
            "Requirement already satisfied: setuptools in /usr/local/lib/python3.7/dist-packages (from tensorflow<3,>=2.1.0->tensorflowjs) (57.4.0)\n",
            "Requirement already satisfied: google-pasta>=0.1.1 in /usr/local/lib/python3.7/dist-packages (from tensorflow<3,>=2.1.0->tensorflowjs) (0.2.0)\n",
            "Requirement already satisfied: wrapt>=1.11.0 in /usr/local/lib/python3.7/dist-packages (from tensorflow<3,>=2.1.0->tensorflowjs) (1.14.1)\n",
            "Requirement already satisfied: tensorflow-io-gcs-filesystem>=0.23.1 in /usr/local/lib/python3.7/dist-packages (from tensorflow<3,>=2.1.0->tensorflowjs) (0.26.0)\n",
            "Requirement already satisfied: tensorboard<2.9,>=2.8 in /usr/local/lib/python3.7/dist-packages (from tensorflow<3,>=2.1.0->tensorflowjs) (2.8.0)\n",
            "Requirement already satisfied: astunparse>=1.6.0 in /usr/local/lib/python3.7/dist-packages (from tensorflow<3,>=2.1.0->tensorflowjs) (1.6.3)\n",
            "Requirement already satisfied: wheel<1.0,>=0.23.0 in /usr/local/lib/python3.7/dist-packages (from astunparse>=1.6.0->tensorflow<3,>=2.1.0->tensorflowjs) (0.37.1)\n",
            "Requirement already satisfied: cached-property in /usr/local/lib/python3.7/dist-packages (from h5py>=2.9.0->tensorflow<3,>=2.1.0->tensorflowjs) (1.5.2)\n",
            "Requirement already satisfied: markdown>=2.6.8 in /usr/local/lib/python3.7/dist-packages (from tensorboard<2.9,>=2.8->tensorflow<3,>=2.1.0->tensorflowjs) (3.4.1)\n",
            "Requirement already satisfied: tensorboard-plugin-wit>=1.6.0 in /usr/local/lib/python3.7/dist-packages (from tensorboard<2.9,>=2.8->tensorflow<3,>=2.1.0->tensorflowjs) (1.8.1)\n",
            "Requirement already satisfied: werkzeug>=0.11.15 in /usr/local/lib/python3.7/dist-packages (from tensorboard<2.9,>=2.8->tensorflow<3,>=2.1.0->tensorflowjs) (1.0.1)\n",
            "Requirement already satisfied: requests<3,>=2.21.0 in /usr/local/lib/python3.7/dist-packages (from tensorboard<2.9,>=2.8->tensorflow<3,>=2.1.0->tensorflowjs) (2.23.0)\n",
            "Requirement already satisfied: google-auth-oauthlib<0.5,>=0.4.1 in /usr/local/lib/python3.7/dist-packages (from tensorboard<2.9,>=2.8->tensorflow<3,>=2.1.0->tensorflowjs) (0.4.6)\n",
            "Requirement already satisfied: google-auth<3,>=1.6.3 in /usr/local/lib/python3.7/dist-packages (from tensorboard<2.9,>=2.8->tensorflow<3,>=2.1.0->tensorflowjs) (1.35.0)\n",
            "Requirement already satisfied: tensorboard-data-server<0.7.0,>=0.6.0 in /usr/local/lib/python3.7/dist-packages (from tensorboard<2.9,>=2.8->tensorflow<3,>=2.1.0->tensorflowjs) (0.6.1)\n",
            "Requirement already satisfied: cachetools<5.0,>=2.0.0 in /usr/local/lib/python3.7/dist-packages (from google-auth<3,>=1.6.3->tensorboard<2.9,>=2.8->tensorflow<3,>=2.1.0->tensorflowjs) (4.2.4)\n",
            "Requirement already satisfied: rsa<5,>=3.1.4 in /usr/local/lib/python3.7/dist-packages (from google-auth<3,>=1.6.3->tensorboard<2.9,>=2.8->tensorflow<3,>=2.1.0->tensorflowjs) (4.9)\n",
            "Requirement already satisfied: pyasn1-modules>=0.2.1 in /usr/local/lib/python3.7/dist-packages (from google-auth<3,>=1.6.3->tensorboard<2.9,>=2.8->tensorflow<3,>=2.1.0->tensorflowjs) (0.2.8)\n",
            "Requirement already satisfied: requests-oauthlib>=0.7.0 in /usr/local/lib/python3.7/dist-packages (from google-auth-oauthlib<0.5,>=0.4.1->tensorboard<2.9,>=2.8->tensorflow<3,>=2.1.0->tensorflowjs) (1.3.1)\n",
            "Requirement already satisfied: importlib-metadata>=4.4 in /usr/local/lib/python3.7/dist-packages (from markdown>=2.6.8->tensorboard<2.9,>=2.8->tensorflow<3,>=2.1.0->tensorflowjs) (4.12.0)\n",
            "Requirement already satisfied: pyasn1<0.5.0,>=0.4.6 in /usr/local/lib/python3.7/dist-packages (from pyasn1-modules>=0.2.1->google-auth<3,>=1.6.3->tensorboard<2.9,>=2.8->tensorflow<3,>=2.1.0->tensorflowjs) (0.4.8)\n",
            "Requirement already satisfied: idna<3,>=2.5 in /usr/local/lib/python3.7/dist-packages (from requests<3,>=2.21.0->tensorboard<2.9,>=2.8->tensorflow<3,>=2.1.0->tensorflowjs) (2.10)\n",
            "Requirement already satisfied: certifi>=2017.4.17 in /usr/local/lib/python3.7/dist-packages (from requests<3,>=2.21.0->tensorboard<2.9,>=2.8->tensorflow<3,>=2.1.0->tensorflowjs) (2022.6.15)\n",
            "Requirement already satisfied: chardet<4,>=3.0.2 in /usr/local/lib/python3.7/dist-packages (from requests<3,>=2.21.0->tensorboard<2.9,>=2.8->tensorflow<3,>=2.1.0->tensorflowjs) (3.0.4)\n",
            "Requirement already satisfied: urllib3!=1.25.0,!=1.25.1,<1.26,>=1.21.1 in /usr/local/lib/python3.7/dist-packages (from requests<3,>=2.21.0->tensorboard<2.9,>=2.8->tensorflow<3,>=2.1.0->tensorflowjs) (1.24.3)\n",
            "Requirement already satisfied: oauthlib>=3.0.0 in /usr/local/lib/python3.7/dist-packages (from requests-oauthlib>=0.7.0->google-auth-oauthlib<0.5,>=0.4.1->tensorboard<2.9,>=2.8->tensorflow<3,>=2.1.0->tensorflowjs) (3.2.0)\n",
            "Requirement already satisfied: kiwisolver>=1.0.1 in /usr/local/lib/python3.7/dist-packages (from matplotlib->flax>=0.5.3->tensorflowjs) (1.4.4)\n",
            "Requirement already satisfied: python-dateutil>=2.1 in /usr/local/lib/python3.7/dist-packages (from matplotlib->flax>=0.5.3->tensorflowjs) (2.8.2)\n",
            "Requirement already satisfied: cycler>=0.10 in /usr/local/lib/python3.7/dist-packages (from matplotlib->flax>=0.5.3->tensorflowjs) (0.11.0)\n",
            "Requirement already satisfied: jaxlib>=0.1.37 in /usr/local/lib/python3.7/dist-packages (from optax->flax>=0.5.3->tensorflowjs) (0.3.14+cuda11.cudnn805)\n",
            "Collecting chex>=0.0.4\n",
            "  Downloading chex-0.1.4-py3-none-any.whl (76 kB)\n",
            "\u001b[K     |████████████████████████████████| 76 kB 6.7 MB/s \n",
            "\u001b[?25hRequirement already satisfied: toolz>=0.9.0 in /usr/local/lib/python3.7/dist-packages (from chex>=0.0.4->optax->flax>=0.5.3->tensorflowjs) (0.12.0)\n",
            "Requirement already satisfied: dm-tree>=0.1.5 in /usr/local/lib/python3.7/dist-packages (from chex>=0.0.4->optax->flax>=0.5.3->tensorflowjs) (0.1.7)\n",
            "Building wheels for collected packages: jax\n",
            "  Building wheel for jax (setup.py) ... \u001b[?25l\u001b[?25hdone\n",
            "  Created wheel for jax: filename=jax-0.3.17-py3-none-any.whl size=1217867 sha256=a25172a7234aace44b83c0c26028e418a5f3efa760db17a1266a1e102f716784\n",
            "  Stored in directory: /root/.cache/pip/wheels/ef/87/bc/e175212cdfdee1d1930ea2f4163106dd243a0ae02c300108a3\n",
            "Successfully built jax\n",
            "Installing collected packages: jax, commonmark, colorama, chex, rich, optax, packaging, flax, tensorflowjs\n",
            "  Attempting uninstall: jax\n",
            "    Found existing installation: jax 0.3.14\n",
            "    Uninstalling jax-0.3.14:\n",
            "      Successfully uninstalled jax-0.3.14\n",
            "  Attempting uninstall: packaging\n",
            "    Found existing installation: packaging 21.3\n",
            "    Uninstalling packaging-21.3:\n",
            "      Successfully uninstalled packaging-21.3\n",
            "Successfully installed chex-0.1.4 colorama-0.4.5 commonmark-0.9.1 flax-0.6.0 jax-0.3.17 optax-0.1.3 packaging-20.9 rich-11.2.0 tensorflowjs-3.20.0\n"
          ]
        },
        {
          "output_type": "display_data",
          "data": {
            "application/vnd.colab-display-data+json": {
              "pip_warning": {
                "packages": [
                  "jax",
                  "packaging"
                ]
              }
            }
          },
          "metadata": {}
        },
        {
          "output_type": "stream",
          "name": "stdout",
          "text": [
            "2022-09-06 12:31:58.180455: W tensorflow/core/common_runtime/gpu/gpu_bfc_allocator.cc:39] Overriding allow_growth setting because the TF_FORCE_GPU_ALLOW_GROWTH environment variable is set. Original config value was 0.\n",
            "WARNING:tensorflow:Compiled the loaded model, but the compiled metrics have yet to be built. `model.compile_metrics` will be empty until you train or evaluate the model.\n",
            "2022-09-06 12:31:58.744915: W tensorflow/python/util/util.cc:368] Sets are not currently considered sequences, but this may change in the future, so consider avoiding using them.\n",
            "Writing weight file ./jsmodel/model.json...\n"
          ]
        }
      ]
    },
    {
      "cell_type": "markdown",
      "source": [
        "# Guardar modelo"
      ],
      "metadata": {
        "id": "Hc2MyFvWJPxV"
      }
    },
    {
      "cell_type": "code",
      "source": [
        "!zip -r /content/model.zip /content/jsmodel"
      ],
      "metadata": {
        "id": "nHl6_eyaJP9M",
        "colab": {
          "base_uri": "https://localhost:8080/"
        },
        "outputId": "a0c2e8f6-381d-455f-dab5-d02d1b878f65"
      },
      "execution_count": 7,
      "outputs": [
        {
          "output_type": "stream",
          "name": "stdout",
          "text": [
            "  adding: content/jsmodel/ (stored 0%)\n",
            "  adding: content/jsmodel/group1-shard4of9.bin (deflated 7%)\n",
            "  adding: content/jsmodel/group1-shard1of9.bin (deflated 7%)\n",
            "  adding: content/jsmodel/model.json (deflated 89%)\n",
            "  adding: content/jsmodel/group1-shard8of9.bin (deflated 7%)\n",
            "  adding: content/jsmodel/group1-shard2of9.bin (deflated 7%)\n",
            "  adding: content/jsmodel/group1-shard7of9.bin (deflated 7%)\n",
            "  adding: content/jsmodel/group1-shard3of9.bin (deflated 7%)\n",
            "  adding: content/jsmodel/group1-shard6of9.bin (deflated 7%)\n",
            "  adding: content/jsmodel/group1-shard5of9.bin (deflated 7%)\n",
            "  adding: content/jsmodel/group1-shard9of9.bin (deflated 7%)\n"
          ]
        }
      ]
    },
    {
      "cell_type": "code",
      "source": [
        "model.summary()"
      ],
      "metadata": {
        "id": "FOCluNpAVuka",
        "outputId": "215da940-cd9e-463f-a8d1-e1115c819f74",
        "colab": {
          "base_uri": "https://localhost:8080/"
        }
      },
      "execution_count": 8,
      "outputs": [
        {
          "output_type": "stream",
          "name": "stdout",
          "text": [
            "Model: \"sequential_1\"\n",
            "_________________________________________________________________\n",
            " Layer (type)                Output Shape              Param #   \n",
            "=================================================================\n",
            " rescaling (Rescaling)       (None, 256, 256, 3)       0         \n",
            "                                                                 \n",
            " conv2d (Conv2D)             (None, 256, 256, 16)      448       \n",
            "                                                                 \n",
            " max_pooling2d (MaxPooling2D  (None, 128, 128, 16)     0         \n",
            " )                                                               \n",
            "                                                                 \n",
            " conv2d_1 (Conv2D)           (None, 128, 128, 32)      4640      \n",
            "                                                                 \n",
            " max_pooling2d_1 (MaxPooling  (None, 64, 64, 32)       0         \n",
            " 2D)                                                             \n",
            "                                                                 \n",
            " conv2d_2 (Conv2D)           (None, 64, 64, 64)        18496     \n",
            "                                                                 \n",
            " max_pooling2d_2 (MaxPooling  (None, 32, 32, 64)       0         \n",
            " 2D)                                                             \n",
            "                                                                 \n",
            " conv2d_3 (Conv2D)           (None, 32, 32, 128)       73856     \n",
            "                                                                 \n",
            " max_pooling2d_3 (MaxPooling  (None, 16, 16, 128)      0         \n",
            " 2D)                                                             \n",
            "                                                                 \n",
            " dropout (Dropout)           (None, 16, 16, 128)       0         \n",
            "                                                                 \n",
            " flatten (Flatten)           (None, 32768)             0         \n",
            "                                                                 \n",
            " dense (Dense)               (None, 256)               8388864   \n",
            "                                                                 \n",
            " dense_1 (Dense)             (None, 6)                 1542      \n",
            "                                                                 \n",
            "=================================================================\n",
            "Total params: 8,487,846\n",
            "Trainable params: 8,487,846\n",
            "Non-trainable params: 0\n",
            "_________________________________________________________________\n"
          ]
        }
      ]
    },
    {
      "cell_type": "markdown",
      "source": [
        "# Evaluación del Modelo"
      ],
      "metadata": {
        "id": "n6qi4tShAYPu"
      }
    },
    {
      "cell_type": "code",
      "source": [
        "# Precisión\n",
        "plt.plot(range(0, epochs), acc, color=\"b\", label=\"Accuracy\")\n",
        "plt.plot(range(0, epochs), val_acc, color=\"r\", label=\"Test Accuracy\")\n",
        "plt.legend()\n",
        "plt.show()"
      ],
      "metadata": {
        "colab": {
          "base_uri": "https://localhost:8080/",
          "height": 265
        },
        "id": "uRuVN20Y-vX3",
        "outputId": "fd5c01ba-a145-48f7-b613-e8be2bbb76e7"
      },
      "execution_count": 11,
      "outputs": [
        {
          "output_type": "display_data",
          "data": {
            "text/plain": [
              "<Figure size 432x288 with 1 Axes>"
            ],
            "image/png": "[encoded data removed]"
          },
          "metadata": {
            "needs_background": "light"
          }
        }
      ]
    },
    {
      "cell_type": "code",
      "source": [
        "# Perdida\n",
        "plt.plot(range(0, epochs), loss, color=\"b\", label=\"Loss\")\n",
        "plt.plot(range(0, epochs), val_loss, color=\"r\", label=\"Test Loss\")\n",
        "plt.legend()\n",
        "plt.show()"
      ],
      "metadata": {
        "colab": {
          "base_uri": "https://localhost:8080/",
          "height": 265
        },
        "id": "1YjKM2p4yjmi",
        "outputId": "87e2f55f-5cb2-46a5-eaf3-e3c3a121117d"
      },
      "execution_count": 12,
      "outputs": [
        {
          "output_type": "display_data",
          "data": {
            "text/plain": [
              "<Figure size 432x288 with 1 Axes>"
            ],
            "image/png": "[encoded data removed]"
          },
          "metadata": {
            "needs_background": "light"
          }
        }
      ]
    },
    {
      "cell_type": "code",
      "source": [
        "# Matriz de confusión\n",
        "def plot_confusion_matrix(cm, target_names, cmap=None):\n",
        "    import matplotlib.pyplot as plt\n",
        "    import numpy as np\n",
        "    import itertools\n",
        "\n",
        "    accuracy = np.trace(cm) / float(np.sum(cm))\n",
        "    misclass = 1 - accuracy\n",
        "\n",
        "    if cmap is None:\n",
        "        cmap = plt.get_cmap('Blues')\n",
        "\n",
        "    plt.figure(figsize=(8, 6))\n",
        "    plt.imshow(cm, interpolation='nearest', cmap=cmap)\n",
        "    plt.title('Confusion matrix')\n",
        "    plt.colorbar()\n",
        "\n",
        "    if target_names is not None:\n",
        "        tick_marks = np.arange(len(target_names))\n",
        "        plt.xticks(tick_marks, target_names, rotation=45)\n",
        "        plt.yticks(tick_marks, target_names)\n",
        "\n",
        "    for i, j in itertools.product(range(cm.shape[0]), range(cm.shape[1])):\n",
        "            plt.text(j, i, \"{:,}\".format(cm[i, j]),\n",
        "                     horizontalalignment=\"center\",\n",
        "                     color=\"black\")\n",
        "\n",
        "    plt.tight_layout()\n",
        "    plt.ylabel('True label')\n",
        "    plt.xlabel('Predicted label\\naccuracy={:0.4f}%; misclass={:0.4f}%'.format(accuracy, misclass))\n",
        "    plt.show()\n",
        "\n",
        "plt.figure(figsize=(10, 10))\n",
        "true = []\n",
        "predictions = []\n",
        "\n",
        "for i in os.listdir(DIR):\n",
        "  folderPath = os.path.join(DIR, i)\n",
        "  for j in os.listdir(folderPath)[:550]:\n",
        "    fullPath = os.path.join(folderPath, j)\n",
        "    try:\n",
        "      img = tf.keras.preprocessing.image.load_img(fullPath, target_size=(256, 256))\n",
        "      img_array = tf.keras.preprocessing.image.img_to_array(img)\n",
        "      img_array = tf.expand_dims(img_array, 0) \n",
        "\n",
        "      preds = model.predict(img_array)\n",
        "      true.append(clases.index(i))\n",
        "      predictions.append(np.argmax(preds))\n",
        "    except:\n",
        "      print(\"Error on image:\", fullPath)\n",
        "\n",
        "plot_confusion_matrix(tf.math.confusion_matrix(true, predictions), clases)"
      ],
      "metadata": {
        "colab": {
          "base_uri": "https://localhost:8080/",
          "height": 485
        },
        "id": "KxXE-6ONy53w",
        "outputId": "a9b87f24-fe32-40b8-afc6-5999f4a68c02"
      },
      "execution_count": 13,
      "outputs": [
        {
          "output_type": "display_data",
          "data": {
            "text/plain": [
              "<Figure size 720x720 with 0 Axes>"
            ]
          },
          "metadata": {}
        },
        {
          "output_type": "display_data",
          "data": {
            "text/plain": [
              "<Figure size 576x432 with 2 Axes>"
            ],
            "image/png": "[encoded data removed]"
          },
          "metadata": {
            "needs_background": "light"
          }
        }
      ]
    }
  ]
}